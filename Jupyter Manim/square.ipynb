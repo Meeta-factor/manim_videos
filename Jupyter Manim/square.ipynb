{
 "cells": [
  {
   "cell_type": "code",
   "execution_count": 2,
   "metadata": {},
   "outputs": [
    {
     "data": {
      "text/html": [
       "<pre style=\"white-space:pre;overflow-x:auto;line-height:normal;font-family:Menlo,'DejaVu Sans Mono',consolas,'Courier New',monospace\">Manim Community <span style=\"color: #008000; text-decoration-color: #008000\">v0.17.3</span>\n",
       "\n",
       "</pre>\n"
      ],
      "text/plain": [
       "Manim Community \u001b[32mv0.\u001b[0m\u001b[32m17.3\u001b[0m\n",
       "\n"
      ]
     },
     "metadata": {},
     "output_type": "display_data"
    }
   ],
   "source": [
    "from manim import *\n",
    "config.media_width=\"100%\"\n",
    "param = \"-v WARNING --progress_bar None\"\n",
    "param1 = \"-v WARNING --progress_bar None Example\""
   ]
  },
  {
   "cell_type": "code",
   "execution_count": 2,
   "metadata": {},
   "outputs": [
    {
     "data": {
      "text/html": [
       "<video src=\"media\\jupyter\\square@2023-06-07@15-55-36.mp4\" controls autoplay loop style=\"max-width: 100%;\"  >\n",
       "      Your browser does not support the <code>video</code> element.\n",
       "    </video>"
      ],
      "text/plain": [
       "<IPython.core.display.Video object>"
      ]
     },
     "metadata": {},
     "output_type": "display_data"
    }
   ],
   "source": [
    "%%manim $param square\n",
    "class square(Scene):\n",
    "    def construct(self):\n",
    "        #create mobjects\n",
    "        square0=Square(side_length=6.0,color=WHITE,fill_opacity=0.1).move_to([-2,0,0]).set_z_index(-2)\n",
    "        line1=Line([-5,-3,0],[-1,-3,0]).set_color(RED)\n",
    "        line2=Line([-5,-3,0],[-5,1,0]).set_color(RED)\n",
    "        line3=Line([-1,-3,0],[1,-3,0]).set_color(BLUE)\n",
    "        line4=Line([-5,1,0],[-5,3,0]).set_color(BLUE)\n",
    "        line5=Line([-1,-3,0],[-1,3,0])\n",
    "        line6=Line([-5,1,0],[1,1,0])\n",
    "        texta_1=MathTex('a').next_to(line1,DOWN).set_color(RED)\n",
    "        texta_2=MathTex('a').next_to(line2,LEFT).set_color(RED)\n",
    "        textb_1=MathTex('b').next_to(line3,DOWN).set_color(BLUE)\n",
    "        textb_2=MathTex('b').next_to(line4,LEFT).set_color(BLUE)\n",
    "        textS=MathTex('S').next_to(square0)\n",
    "        text1=MathTex('=(a+b)^2').next_to(textS)\n",
    "        square1=Polygon([-5,3,0],[-1,3,0],[-1,1,0],[-5,1,0],fill_opacity=1,stroke_opacity=0).set_color(PURPLE).set_z_index(-1)\n",
    "        square2=Polygon([-1,1,0],[1,1,0],[1,-3,0],[-1,-3,0],fill_opacity=1,stroke_opacity=0).set_color(PURPLE).set_z_index(-1)\n",
    "        square3=Polygon([-1,3,0],[1,3,0],[1,1,0],[-1,1,0],fill_opacity=1,stroke_opacity=0).set_color(BLUE).set_z_index(-1)\n",
    "        square4=Polygon([-5,1,0],[-1,1,0],[-1,-3,0],[-5,-3,0],fill_opacity=1,stroke_opacity=0).set_color(RED).set_z_index(-1)\n",
    "        text2=MathTex('=a^2').next_to(text1,DOWN,aligned_edge=LEFT)\n",
    "        text3=MathTex('+b^2').next_to(text2)\n",
    "        text4=MathTex('+ab').next_to(text3)\n",
    "        text5=MathTex('+ab').next_to(text4)\n",
    "        text6=MathTex('=a^2+b^2+2ab').next_to(text2,DOWN,aligned_edge=LEFT)\n",
    "\n",
    "        self.play(Create(line1),Create(line2))\n",
    "        self.play(Write(texta_1),Write(texta_2))\n",
    "        self.play(Create(line3),Create(line4))\n",
    "        self.play(Write(textb_1),Write(textb_2))\n",
    "        self.play(FadeIn(square0))\n",
    "        self.play(TransformFromCopy(square0,textS))\n",
    "        self.play(Write(text1))\n",
    "        self.play(Create(line5),Create(line6))\n",
    "        self.play(FadeIn(square1),FadeIn(square2),FadeIn(square3),FadeIn(square4))\n",
    "        self.play(Transform(square4,text2))\n",
    "        self.play(Transform(square3,text3))\n",
    "        self.play(Transform(square1,text4))\n",
    "        self.play(Transform(square2,text5))\n",
    "        self.play(Write(text6))\n",
    "        self.wait()\n",
    "\n",
    "\n",
    "\n",
    "\n",
    "\n"
   ]
  },
  {
   "cell_type": "code",
   "execution_count": 3,
   "metadata": {},
   "outputs": [
    {
     "data": {
      "text/html": [
       "<video src=\"media\\jupyter\\Example@2023-06-07@15-55-50.mp4\" controls autoplay loop style=\"max-width: 100%;\"  >\n",
       "      Your browser does not support the <code>video</code> element.\n",
       "    </video>"
      ],
      "text/plain": [
       "<IPython.core.display.Video object>"
      ]
     },
     "metadata": {},
     "output_type": "display_data"
    }
   ],
   "source": [
    "%%manim $param1\n",
    "class Example(Scene):\n",
    "    def construct(self):\n",
    "        dot = Dot(color= GREEN, radius=0.7)\n",
    "        self.add(dot)\n",
    "        dot.add_updater(lambda x,dt: x.shift(2*RIGHT*dt))\n",
    "        self.wait(3)"
   ]
  },
  {
   "cell_type": "code",
   "execution_count": 3,
   "metadata": {},
   "outputs": [
    {
     "ename": "NameError",
     "evalue": "name 'ParametricSurface' is not defined",
     "output_type": "error",
     "traceback": [
      "\u001b[1;31m---------------------------------------------------------------------------\u001b[0m",
      "\u001b[1;31mNameError\u001b[0m                                 Traceback (most recent call last)",
      "Cell \u001b[1;32mIn[3], line 1\u001b[0m\n\u001b[1;32m----> 1\u001b[0m get_ipython()\u001b[39m.\u001b[39;49mrun_cell_magic(\u001b[39m'\u001b[39;49m\u001b[39mmanim\u001b[39;49m\u001b[39m'\u001b[39;49m, \u001b[39m'\u001b[39;49m\u001b[39m$param SampleScene\u001b[39;49m\u001b[39m'\u001b[39;49m, \u001b[39m'\u001b[39;49m\u001b[39m\\n\u001b[39;49;00m\u001b[39mclass SampleScene(ThreeDScene):\u001b[39;49m\u001b[39m\\n\u001b[39;49;00m\u001b[39m    def construct(self):\u001b[39;49m\u001b[39m\\n\u001b[39;49;00m\u001b[39m        axes = ThreeDAxes()\u001b[39;49m\u001b[39m\\n\u001b[39;49;00m\u001b[39m        self.add(axes)\u001b[39;49m\u001b[39m\\n\u001b[39;49;00m\u001b[39m\\n\u001b[39;49;00m\u001b[39m        self.set_camera_orientation(phi=75 * DEGREES, theta=-45 * DEGREES)\u001b[39;49m\u001b[39m\\n\u001b[39;49;00m\u001b[39m\\n\u001b[39;49;00m\u001b[39m        surface = ParametricSurface(\u001b[39;49m\u001b[39m\\n\u001b[39;49;00m\u001b[39m            lambda u, v: np.array([u, v, np.sin(u + v)]),\u001b[39;49m\u001b[39m\\n\u001b[39;49;00m\u001b[39m            u_range=(-PI, PI),\u001b[39;49m\u001b[39m\\n\u001b[39;49;00m\u001b[39m            v_range=(-PI, PI)\u001b[39;49m\u001b[39m\\n\u001b[39;49;00m\u001b[39m        )\u001b[39;49m\u001b[39m\\n\u001b[39;49;00m\u001b[39m        \u001b[39;49m\u001b[39m\\n\u001b[39;49;00m\u001b[39m        self.play(Create(surface))\u001b[39;49m\u001b[39m\\n\u001b[39;49;00m\u001b[39m'\u001b[39;49m)\n",
      "File \u001b[1;32me:\\anaconda3\\lib\\site-packages\\IPython\\core\\interactiveshell.py:2478\u001b[0m, in \u001b[0;36mInteractiveShell.run_cell_magic\u001b[1;34m(self, magic_name, line, cell)\u001b[0m\n\u001b[0;32m   2476\u001b[0m \u001b[39mwith\u001b[39;00m \u001b[39mself\u001b[39m\u001b[39m.\u001b[39mbuiltin_trap:\n\u001b[0;32m   2477\u001b[0m     args \u001b[39m=\u001b[39m (magic_arg_s, cell)\n\u001b[1;32m-> 2478\u001b[0m     result \u001b[39m=\u001b[39m fn(\u001b[39m*\u001b[39margs, \u001b[39m*\u001b[39m\u001b[39m*\u001b[39mkwargs)\n\u001b[0;32m   2480\u001b[0m \u001b[39m# The code below prevents the output from being displayed\u001b[39;00m\n\u001b[0;32m   2481\u001b[0m \u001b[39m# when using magics with decodator @output_can_be_silenced\u001b[39;00m\n\u001b[0;32m   2482\u001b[0m \u001b[39m# when the last Python token in the expression is a ';'.\u001b[39;00m\n\u001b[0;32m   2483\u001b[0m \u001b[39mif\u001b[39;00m \u001b[39mgetattr\u001b[39m(fn, magic\u001b[39m.\u001b[39mMAGIC_OUTPUT_CAN_BE_SILENCED, \u001b[39mFalse\u001b[39;00m):\n",
      "File \u001b[1;32me:\\anaconda3\\lib\\site-packages\\manim\\utils\\ipython_magic.py:141\u001b[0m, in \u001b[0;36mManimMagic.manim\u001b[1;34m(self, line, cell, local_ns)\u001b[0m\n\u001b[0;32m    139\u001b[0m     SceneClass \u001b[39m=\u001b[39m local_ns[config[\u001b[39m\"\u001b[39m\u001b[39mscene_names\u001b[39m\u001b[39m\"\u001b[39m][\u001b[39m0\u001b[39m]]\n\u001b[0;32m    140\u001b[0m     scene \u001b[39m=\u001b[39m SceneClass(renderer\u001b[39m=\u001b[39mrenderer)\n\u001b[1;32m--> 141\u001b[0m     scene\u001b[39m.\u001b[39;49mrender()\n\u001b[0;32m    142\u001b[0m \u001b[39mfinally\u001b[39;00m:\n\u001b[0;32m    143\u001b[0m     \u001b[39m# Shader cache becomes invalid as the context is destroyed\u001b[39;00m\n\u001b[0;32m    144\u001b[0m     shader_program_cache\u001b[39m.\u001b[39mclear()\n",
      "File \u001b[1;32me:\\anaconda3\\lib\\site-packages\\manim\\scene\\scene.py:223\u001b[0m, in \u001b[0;36mScene.render\u001b[1;34m(self, preview)\u001b[0m\n\u001b[0;32m    221\u001b[0m \u001b[39mself\u001b[39m\u001b[39m.\u001b[39msetup()\n\u001b[0;32m    222\u001b[0m \u001b[39mtry\u001b[39;00m:\n\u001b[1;32m--> 223\u001b[0m     \u001b[39mself\u001b[39;49m\u001b[39m.\u001b[39;49mconstruct()\n\u001b[0;32m    224\u001b[0m \u001b[39mexcept\u001b[39;00m EndSceneEarlyException:\n\u001b[0;32m    225\u001b[0m     \u001b[39mpass\u001b[39;00m\n",
      "File \u001b[1;32m<string>:9\u001b[0m, in \u001b[0;36mconstruct\u001b[1;34m(self)\u001b[0m\n",
      "\u001b[1;31mNameError\u001b[0m: name 'ParametricSurface' is not defined"
     ]
    }
   ],
   "source": [
    "%%manim $param SampleScene\n",
    "\n",
    "from manim.mobject.geometry import ParametricSurface\n",
    "import numpy as np\n",
    "\n",
    "class SampleScene(ThreeDScene):\n",
    "    def construct(self):\n",
    "        axes = ThreeDAxes()\n",
    "        self.set_camera_orientation(phi=75 * DEGREES, theta=-45 * DEGREES)\n",
    "        self.add(axes)\n",
    "\n",
    "        surface = ParametricSurface(\n",
    "            lambda u, v: np.array([u, v, np.sin(u + v)]),\n",
    "            u_min=-PI,\n",
    "            u_max=PI,\n",
    "            v_min=-PI,\n",
    "            v_max=PI\n",
    "        )\n",
    "\n",
    "        self.play(Create(surface))\n",
    "        self.wait(3)"
   ]
  }
 ],
 "metadata": {
  "kernelspec": {
   "display_name": "base",
   "language": "python",
   "name": "python3"
  },
  "language_info": {
   "codemirror_mode": {
    "name": "ipython",
    "version": 3
   },
   "file_extension": ".py",
   "mimetype": "text/x-python",
   "name": "python",
   "nbconvert_exporter": "python",
   "pygments_lexer": "ipython3",
   "version": "3.10.11"
  },
  "orig_nbformat": 4
 },
 "nbformat": 4,
 "nbformat_minor": 2
}
